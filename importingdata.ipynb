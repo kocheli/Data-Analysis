{
 "cells": [
  {
   "cell_type": "code",
   "execution_count": 1,
   "id": "8e4701a6-86b6-49d8-9575-9e82abc36300",
   "metadata": {
    "tags": []
   },
   "outputs": [],
   "source": [
    "import pandas as pd\n",
    "import numpy as np\n",
    "\n",
    "import zipfile # handling zip folder"
   ]
  },
  {
   "cell_type": "markdown",
   "id": "016efc96-4458-4444-a635-a04d46c8f85f",
   "metadata": {},
   "source": [
    "## Importing CSV"
   ]
  },
  {
   "cell_type": "code",
   "execution_count": 2,
   "id": "e082bd61-51e3-4bf3-8a7d-b8395d8ecca6",
   "metadata": {
    "tags": []
   },
   "outputs": [],
   "source": [
    "zip_file_path = \"Data/court_data.csv.zip\"\n",
    "extract_folder = \"Data\""
   ]
  },
  {
   "cell_type": "code",
   "execution_count": 3,
   "id": "1d857239-dc37-4445-8cd2-c8dda6104db6",
   "metadata": {
    "tags": []
   },
   "outputs": [],
   "source": [
    "def unzip_csv(zip_file_path, extract_folder):\n",
    "    with zipfile.ZipFile(zip_file_path, \"r\") as zip_ref:\n",
    "        zip_ref.extractall(extract_folder)\n",
    "        \n",
    "unzip_csv(zip_file_path, extract_folder)"
   ]
  },
  {
   "cell_type": "code",
   "execution_count": 4,
   "id": "8b45e7e3-cf0c-4940-913a-a5066608be86",
   "metadata": {},
   "outputs": [
    {
     "name": "stderr",
     "output_type": "stream",
     "text": [
      "C:\\Users\\Eric Kocheli\\AppData\\Local\\Temp\\ipykernel_13040\\4017069686.py:1: DtypeWarning: Columns (6,14,16,17) have mixed types. Specify dtype option on import or set low_memory=False.\n",
      "  court_data = pd.read_csv(\"Data/court_data.csv\")\n"
     ]
    }
   ],
   "source": [
    "court_data = pd.read_csv(\"Data/court_data.csv\")"
   ]
  },
  {
   "cell_type": "code",
   "execution_count": 5,
   "id": "59a2de0b-b1dc-47d1-b250-f0534c078373",
   "metadata": {
    "tags": []
   },
   "outputs": [
    {
     "data": {
      "text/html": [
       "<div>\n",
       "<style scoped>\n",
       "    .dataframe tbody tr th:only-of-type {\n",
       "        vertical-align: middle;\n",
       "    }\n",
       "\n",
       "    .dataframe tbody tr th {\n",
       "        vertical-align: top;\n",
       "    }\n",
       "\n",
       "    .dataframe thead th {\n",
       "        text-align: right;\n",
       "    }\n",
       "</style>\n",
       "<table border=\"1\" class=\"dataframe\">\n",
       "  <thead>\n",
       "    <tr style=\"text-align: right;\">\n",
       "      <th></th>\n",
       "      <th>court</th>\n",
       "      <th>date_dd</th>\n",
       "      <th>date_mon</th>\n",
       "      <th>date_yyyy</th>\n",
       "      <th>caseid_type</th>\n",
       "      <th>caseid_no</th>\n",
       "      <th>filed_dd</th>\n",
       "      <th>filed_mon</th>\n",
       "      <th>filed_yyyy</th>\n",
       "      <th>case_type</th>\n",
       "      <th>...</th>\n",
       "      <th>firstparty_f</th>\n",
       "      <th>firstparty_org</th>\n",
       "      <th>secondparty_m</th>\n",
       "      <th>secondparty_f</th>\n",
       "      <th>secondparty_o</th>\n",
       "      <th>legalrep</th>\n",
       "      <th>p_witness</th>\n",
       "      <th>d_witness</th>\n",
       "      <th>custody</th>\n",
       "      <th>other_details</th>\n",
       "    </tr>\n",
       "  </thead>\n",
       "  <tbody>\n",
       "    <tr>\n",
       "      <th>0</th>\n",
       "      <td>363052 High Court</td>\n",
       "      <td>23.0</td>\n",
       "      <td>May</td>\n",
       "      <td>2023.0</td>\n",
       "      <td>HCCRC</td>\n",
       "      <td>1</td>\n",
       "      <td>9</td>\n",
       "      <td>JAN</td>\n",
       "      <td>2019.0</td>\n",
       "      <td>MURDER CASE</td>\n",
       "      <td>...</td>\n",
       "      <td>NaN</td>\n",
       "      <td>1.0</td>\n",
       "      <td>1.0</td>\n",
       "      <td>NaN</td>\n",
       "      <td>NaN</td>\n",
       "      <td>YES</td>\n",
       "      <td>NaN</td>\n",
       "      <td>NaN</td>\n",
       "      <td>0.0</td>\n",
       "      <td>NaN</td>\n",
       "    </tr>\n",
       "    <tr>\n",
       "      <th>1</th>\n",
       "      <td>363052 High Court</td>\n",
       "      <td>19.0</td>\n",
       "      <td>Sep</td>\n",
       "      <td>2022.0</td>\n",
       "      <td>HCFP&amp;A</td>\n",
       "      <td>171</td>\n",
       "      <td>4</td>\n",
       "      <td>MAR</td>\n",
       "      <td>2015.0</td>\n",
       "      <td>PROBATE ADMINISTRATION</td>\n",
       "      <td>...</td>\n",
       "      <td>NaN</td>\n",
       "      <td>NaN</td>\n",
       "      <td>NaN</td>\n",
       "      <td>NaN</td>\n",
       "      <td>NaN</td>\n",
       "      <td>YES</td>\n",
       "      <td>NaN</td>\n",
       "      <td>NaN</td>\n",
       "      <td>0.0</td>\n",
       "      <td>NaN</td>\n",
       "    </tr>\n",
       "    <tr>\n",
       "      <th>2</th>\n",
       "      <td>363052 High Court</td>\n",
       "      <td>21.0</td>\n",
       "      <td>Jun</td>\n",
       "      <td>2023.0</td>\n",
       "      <td>HCCCMISC</td>\n",
       "      <td>E021</td>\n",
       "      <td>17</td>\n",
       "      <td>APR</td>\n",
       "      <td>2023.0</td>\n",
       "      <td>CIVIL CASE MISCELLANEOUS</td>\n",
       "      <td>...</td>\n",
       "      <td>NaN</td>\n",
       "      <td>1.0</td>\n",
       "      <td>NaN</td>\n",
       "      <td>2.0</td>\n",
       "      <td>NaN</td>\n",
       "      <td>YES</td>\n",
       "      <td>NaN</td>\n",
       "      <td>NaN</td>\n",
       "      <td>0.0</td>\n",
       "      <td>NaN</td>\n",
       "    </tr>\n",
       "    <tr>\n",
       "      <th>3</th>\n",
       "      <td>363052 High Court</td>\n",
       "      <td>21.0</td>\n",
       "      <td>Sep</td>\n",
       "      <td>2022.0</td>\n",
       "      <td>HCCRMISCAPPL</td>\n",
       "      <td>E045</td>\n",
       "      <td>10</td>\n",
       "      <td>JUN</td>\n",
       "      <td>2021.0</td>\n",
       "      <td>CRIMINAL MISCELLANEOUS</td>\n",
       "      <td>...</td>\n",
       "      <td>NaN</td>\n",
       "      <td>NaN</td>\n",
       "      <td>NaN</td>\n",
       "      <td>NaN</td>\n",
       "      <td>1.0</td>\n",
       "      <td>YES</td>\n",
       "      <td>NaN</td>\n",
       "      <td>NaN</td>\n",
       "      <td>0.0</td>\n",
       "      <td>NaN</td>\n",
       "    </tr>\n",
       "    <tr>\n",
       "      <th>4</th>\n",
       "      <td>363052 High Court</td>\n",
       "      <td>6.0</td>\n",
       "      <td>Mar</td>\n",
       "      <td>2023.0</td>\n",
       "      <td>HCCRA</td>\n",
       "      <td>E025</td>\n",
       "      <td>19</td>\n",
       "      <td>AUG</td>\n",
       "      <td>2021.0</td>\n",
       "      <td>CRIMINAL APPEAL</td>\n",
       "      <td>...</td>\n",
       "      <td>NaN</td>\n",
       "      <td>NaN</td>\n",
       "      <td>NaN</td>\n",
       "      <td>NaN</td>\n",
       "      <td>1.0</td>\n",
       "      <td>YES</td>\n",
       "      <td>NaN</td>\n",
       "      <td>NaN</td>\n",
       "      <td>1.0</td>\n",
       "      <td>NaN</td>\n",
       "    </tr>\n",
       "  </tbody>\n",
       "</table>\n",
       "<p>5 rows × 28 columns</p>\n",
       "</div>"
      ],
      "text/plain": [
       "               court  date_dd date_mon  date_yyyy   caseid_type caseid_no  \\\n",
       "0  363052 High Court     23.0      May     2023.0         HCCRC         1   \n",
       "1  363052 High Court     19.0      Sep     2022.0        HCFP&A       171   \n",
       "2  363052 High Court     21.0      Jun     2023.0      HCCCMISC      E021   \n",
       "3  363052 High Court     21.0      Sep     2022.0  HCCRMISCAPPL      E045   \n",
       "4  363052 High Court      6.0      Mar     2023.0         HCCRA      E025   \n",
       "\n",
       "  filed_dd filed_mon  filed_yyyy                 case_type  ... firstparty_f  \\\n",
       "0        9       JAN      2019.0               MURDER CASE  ...          NaN   \n",
       "1        4       MAR      2015.0    PROBATE ADMINISTRATION  ...          NaN   \n",
       "2       17       APR      2023.0  CIVIL CASE MISCELLANEOUS  ...          NaN   \n",
       "3       10       JUN      2021.0    CRIMINAL MISCELLANEOUS  ...          NaN   \n",
       "4       19       AUG      2021.0           CRIMINAL APPEAL  ...          NaN   \n",
       "\n",
       "  firstparty_org secondparty_m secondparty_f secondparty_o legalrep p_witness  \\\n",
       "0            1.0           1.0           NaN           NaN      YES       NaN   \n",
       "1            NaN           NaN           NaN           NaN      YES       NaN   \n",
       "2            1.0           NaN           2.0           NaN      YES       NaN   \n",
       "3            NaN           NaN           NaN           1.0      YES       NaN   \n",
       "4            NaN           NaN           NaN           1.0      YES       NaN   \n",
       "\n",
       "  d_witness  custody  other_details  \n",
       "0       NaN      0.0            NaN  \n",
       "1       NaN      0.0            NaN  \n",
       "2       NaN      0.0            NaN  \n",
       "3       NaN      0.0            NaN  \n",
       "4       NaN      1.0            NaN  \n",
       "\n",
       "[5 rows x 28 columns]"
      ]
     },
     "execution_count": 5,
     "metadata": {},
     "output_type": "execute_result"
    }
   ],
   "source": [
    "court_data.head()"
   ]
  },
  {
   "cell_type": "markdown",
   "id": "f56cd253-044a-4cec-817a-78b8b1962312",
   "metadata": {},
   "source": [
    "## Importing an Excel File"
   ]
  },
  {
   "cell_type": "code",
   "execution_count": 6,
   "id": "90a4ea3b-3365-4206-affe-c4314efac54b",
   "metadata": {
    "tags": []
   },
   "outputs": [
    {
     "data": {
      "text/html": [
       "<div>\n",
       "<style scoped>\n",
       "    .dataframe tbody tr th:only-of-type {\n",
       "        vertical-align: middle;\n",
       "    }\n",
       "\n",
       "    .dataframe tbody tr th {\n",
       "        vertical-align: top;\n",
       "    }\n",
       "\n",
       "    .dataframe thead th {\n",
       "        text-align: right;\n",
       "    }\n",
       "</style>\n",
       "<table border=\"1\" class=\"dataframe\">\n",
       "  <thead>\n",
       "    <tr style=\"text-align: right;\">\n",
       "      <th></th>\n",
       "      <th>Unnamed: 0</th>\n",
       "      <th>Unnamed: 1</th>\n",
       "      <th>Unnamed: 2</th>\n",
       "      <th>Unnamed: 3</th>\n",
       "      <th>Unnamed: 4</th>\n",
       "      <th>Unnamed: 5</th>\n",
       "      <th>Unnamed: 6</th>\n",
       "      <th>Unnamed: 7</th>\n",
       "      <th>Unnamed: 8</th>\n",
       "      <th>Unnamed: 9</th>\n",
       "      <th>...</th>\n",
       "      <th>Unnamed: 28</th>\n",
       "      <th>Unnamed: 29</th>\n",
       "      <th>Unnamed: 30</th>\n",
       "      <th>Unnamed: 31</th>\n",
       "      <th>Unnamed: 32</th>\n",
       "      <th>Unnamed: 33</th>\n",
       "      <th>Unnamed: 34</th>\n",
       "      <th>Unnamed: 35</th>\n",
       "      <th>Unnamed: 36</th>\n",
       "      <th>Unnamed: 37</th>\n",
       "    </tr>\n",
       "  </thead>\n",
       "  <tbody>\n",
       "    <tr>\n",
       "      <th>2156</th>\n",
       "      <td>NaN</td>\n",
       "      <td>28</td>\n",
       "      <td>Apr</td>\n",
       "      <td>2023</td>\n",
       "      <td>QRSUCCMISC</td>\n",
       "      <td>E085</td>\n",
       "      <td>19</td>\n",
       "      <td>Apr</td>\n",
       "      <td>2023</td>\n",
       "      <td>NaN</td>\n",
       "      <td>...</td>\n",
       "      <td>NaN</td>\n",
       "      <td>NaN</td>\n",
       "      <td>1</td>\n",
       "      <td>NaN</td>\n",
       "      <td>NaN</td>\n",
       "      <td>Yes</td>\n",
       "      <td>NaN</td>\n",
       "      <td>NaN</td>\n",
       "      <td>0</td>\n",
       "      <td>NaN</td>\n",
       "    </tr>\n",
       "    <tr>\n",
       "      <th>2157</th>\n",
       "      <td>NaN</td>\n",
       "      <td>28</td>\n",
       "      <td>Apr</td>\n",
       "      <td>2023</td>\n",
       "      <td>QRSUCCMISC</td>\n",
       "      <td>E074</td>\n",
       "      <td>6</td>\n",
       "      <td>Apr</td>\n",
       "      <td>2023</td>\n",
       "      <td>NaN</td>\n",
       "      <td>...</td>\n",
       "      <td>NaN</td>\n",
       "      <td>NaN</td>\n",
       "      <td>NaN</td>\n",
       "      <td>NaN</td>\n",
       "      <td>NaN</td>\n",
       "      <td>No</td>\n",
       "      <td>NaN</td>\n",
       "      <td>NaN</td>\n",
       "      <td>0</td>\n",
       "      <td>NaN</td>\n",
       "    </tr>\n",
       "    <tr>\n",
       "      <th>2158</th>\n",
       "      <td>NaN</td>\n",
       "      <td>28</td>\n",
       "      <td>Apr</td>\n",
       "      <td>2023</td>\n",
       "      <td>QRCC</td>\n",
       "      <td>E216</td>\n",
       "      <td>28</td>\n",
       "      <td>Apr</td>\n",
       "      <td>2023</td>\n",
       "      <td>NaN</td>\n",
       "      <td>...</td>\n",
       "      <td>NaN</td>\n",
       "      <td>NaN</td>\n",
       "      <td>2</td>\n",
       "      <td>1</td>\n",
       "      <td>NaN</td>\n",
       "      <td>Yes</td>\n",
       "      <td>NaN</td>\n",
       "      <td>NaN</td>\n",
       "      <td>0</td>\n",
       "      <td>Certificate of urgency activity auto-created</td>\n",
       "    </tr>\n",
       "    <tr>\n",
       "      <th>2159</th>\n",
       "      <td>NaN</td>\n",
       "      <td>28</td>\n",
       "      <td>Apr</td>\n",
       "      <td>2023</td>\n",
       "      <td>QRELCMISC</td>\n",
       "      <td>E009</td>\n",
       "      <td>27</td>\n",
       "      <td>Apr</td>\n",
       "      <td>2023</td>\n",
       "      <td>NaN</td>\n",
       "      <td>...</td>\n",
       "      <td>NaN</td>\n",
       "      <td>NaN</td>\n",
       "      <td>NaN</td>\n",
       "      <td>1</td>\n",
       "      <td>NaN</td>\n",
       "      <td>No</td>\n",
       "      <td>NaN</td>\n",
       "      <td>NaN</td>\n",
       "      <td>0</td>\n",
       "      <td>Certificate of urgency activity auto-created</td>\n",
       "    </tr>\n",
       "    <tr>\n",
       "      <th>2160</th>\n",
       "      <td>NaN</td>\n",
       "      <td>28</td>\n",
       "      <td>Apr</td>\n",
       "      <td>2023</td>\n",
       "      <td>QRCC</td>\n",
       "      <td>24</td>\n",
       "      <td>24</td>\n",
       "      <td>Jan</td>\n",
       "      <td>2020</td>\n",
       "      <td>NaN</td>\n",
       "      <td>...</td>\n",
       "      <td>NaN</td>\n",
       "      <td>NaN</td>\n",
       "      <td>1</td>\n",
       "      <td>NaN</td>\n",
       "      <td>NaN</td>\n",
       "      <td>Yes</td>\n",
       "      <td>NaN</td>\n",
       "      <td>NaN</td>\n",
       "      <td>0</td>\n",
       "      <td>Certificate of urgency activity auto-created</td>\n",
       "    </tr>\n",
       "  </tbody>\n",
       "</table>\n",
       "<p>5 rows × 38 columns</p>\n",
       "</div>"
      ],
      "text/plain": [
       "      Unnamed: 0 Unnamed: 1 Unnamed: 2 Unnamed: 3  Unnamed: 4 Unnamed: 5  \\\n",
       "2156         NaN         28        Apr       2023  QRSUCCMISC       E085   \n",
       "2157         NaN         28        Apr       2023  QRSUCCMISC       E074   \n",
       "2158         NaN         28        Apr       2023        QRCC       E216   \n",
       "2159         NaN         28        Apr       2023   QRELCMISC       E009   \n",
       "2160         NaN         28        Apr       2023        QRCC         24   \n",
       "\n",
       "     Unnamed: 6 Unnamed: 7 Unnamed: 8 Unnamed: 9  ... Unnamed: 28 Unnamed: 29  \\\n",
       "2156         19        Apr       2023        NaN  ...         NaN         NaN   \n",
       "2157          6        Apr       2023        NaN  ...         NaN         NaN   \n",
       "2158         28        Apr       2023        NaN  ...         NaN         NaN   \n",
       "2159         27        Apr       2023        NaN  ...         NaN         NaN   \n",
       "2160         24        Jan       2020        NaN  ...         NaN         NaN   \n",
       "\n",
       "     Unnamed: 30 Unnamed: 31 Unnamed: 32 Unnamed: 33 Unnamed: 34 Unnamed: 35  \\\n",
       "2156           1         NaN         NaN         Yes         NaN         NaN   \n",
       "2157         NaN         NaN         NaN          No         NaN         NaN   \n",
       "2158           2           1         NaN         Yes         NaN         NaN   \n",
       "2159         NaN           1         NaN          No         NaN         NaN   \n",
       "2160           1         NaN         NaN         Yes         NaN         NaN   \n",
       "\n",
       "     Unnamed: 36                                    Unnamed: 37  \n",
       "2156           0                                            NaN  \n",
       "2157           0                                            NaN  \n",
       "2158           0  Certificate of urgency activity auto-created   \n",
       "2159           0  Certificate of urgency activity auto-created   \n",
       "2160           0  Certificate of urgency activity auto-created   \n",
       "\n",
       "[5 rows x 38 columns]"
      ]
     },
     "execution_count": 6,
     "metadata": {},
     "output_type": "execute_result"
    }
   ],
   "source": [
    "sample_dat = pd.read_excel(\"Data/sample_data.xlsx\")\n",
    "sample_dat.tail()"
   ]
  },
  {
   "cell_type": "markdown",
   "id": "544bb7dc-6638-43ea-874a-cf114beb9e75",
   "metadata": {},
   "source": [
    "### Preview the data"
   ]
  },
  {
   "cell_type": "code",
   "execution_count": 7,
   "id": "6eff7ca2-3960-4afe-a654-5c386197358c",
   "metadata": {
    "tags": []
   },
   "outputs": [
    {
     "data": {
      "text/plain": [
       "(357229, 28)"
      ]
     },
     "execution_count": 7,
     "metadata": {},
     "output_type": "execute_result"
    }
   ],
   "source": [
    "court_data.shape"
   ]
  },
  {
   "cell_type": "code",
   "execution_count": 8,
   "id": "2d8c7ead-2437-4fdb-ab76-3b95952b5467",
   "metadata": {
    "tags": []
   },
   "outputs": [
    {
     "data": {
      "text/plain": [
       "357229"
      ]
     },
     "execution_count": 8,
     "metadata": {},
     "output_type": "execute_result"
    }
   ],
   "source": [
    "court_data.shape[0]"
   ]
  },
  {
   "cell_type": "code",
   "execution_count": 9,
   "id": "9de81922-da32-4a35-9bdb-42feb625a208",
   "metadata": {
    "tags": []
   },
   "outputs": [
    {
     "name": "stdout",
     "output_type": "stream",
     "text": [
      "The data has: \n",
      "\t * 357229 rows. \n",
      "\t * 28 columns\n"
     ]
    }
   ],
   "source": [
    "# improved version on the shape\n",
    "print(f\"The data has: \\n\\t * {court_data.shape[0]} rows. \\n\\t * {court_data.shape[1]} columns\")"
   ]
  },
  {
   "cell_type": "code",
   "execution_count": 10,
   "id": "82158490-e9c7-4c27-bc68-120ef9fbc0d5",
   "metadata": {
    "tags": []
   },
   "outputs": [
    {
     "data": {
      "text/plain": [
       "Index(['court', 'date_dd', 'date_mon', 'date_yyyy', 'caseid_type', 'caseid_no',\n",
       "       'filed_dd', 'filed_mon', 'filed_yyyy', 'case_type', 'judge',\n",
       "       'comingfor', 'outcome', 'reason_adj', 'next_dd', 'next_mon',\n",
       "       'next_yyyy', 'fisrtparty_m', 'firstparty_f', 'firstparty_org',\n",
       "       'secondparty_m', 'secondparty_f', 'secondparty_o', 'legalrep',\n",
       "       'p_witness', 'd_witness', 'custody', 'other_details'],\n",
       "      dtype='object')"
      ]
     },
     "execution_count": 10,
     "metadata": {},
     "output_type": "execute_result"
    }
   ],
   "source": [
    "court_data.columns"
   ]
  },
  {
   "cell_type": "code",
   "execution_count": 11,
   "id": "5646fd66-9c46-4bb4-a3f7-1693f0184ee0",
   "metadata": {
    "tags": []
   },
   "outputs": [
    {
     "data": {
      "text/plain": [
       "court              object\n",
       "date_dd           float64\n",
       "date_mon           object\n",
       "date_yyyy         float64\n",
       "caseid_type        object\n",
       "caseid_no          object\n",
       "filed_dd           object\n",
       "filed_mon          object\n",
       "filed_yyyy        float64\n",
       "case_type          object\n",
       "judge              object\n",
       "comingfor          object\n",
       "outcome            object\n",
       "reason_adj         object\n",
       "next_dd            object\n",
       "next_mon           object\n",
       "next_yyyy          object\n",
       "fisrtparty_m       object\n",
       "firstparty_f      float64\n",
       "firstparty_org    float64\n",
       "secondparty_m     float64\n",
       "secondparty_f     float64\n",
       "secondparty_o     float64\n",
       "legalrep           object\n",
       "p_witness         float64\n",
       "d_witness         float64\n",
       "custody           float64\n",
       "other_details      object\n",
       "dtype: object"
      ]
     },
     "execution_count": 11,
     "metadata": {},
     "output_type": "execute_result"
    }
   ],
   "source": [
    "# raws data\n",
    "court_data.dtypes\n",
    "# object is a string in pandas\n",
    "# date is called datetime"
   ]
  },
  {
   "cell_type": "code",
   "execution_count": 12,
   "id": "040e62fc-1b92-4668-9821-c61d730dd89a",
   "metadata": {
    "tags": []
   },
   "outputs": [
    {
     "name": "stdout",
     "output_type": "stream",
     "text": [
      "<class 'pandas.core.frame.DataFrame'>\n",
      "RangeIndex: 357229 entries, 0 to 357228\n",
      "Data columns (total 28 columns):\n",
      " #   Column          Non-Null Count   Dtype  \n",
      "---  ------          --------------   -----  \n",
      " 0   court           357229 non-null  object \n",
      " 1   date_dd         357228 non-null  float64\n",
      " 2   date_mon        357229 non-null  object \n",
      " 3   date_yyyy       357228 non-null  float64\n",
      " 4   caseid_type     357229 non-null  object \n",
      " 5   caseid_no       357225 non-null  object \n",
      " 6   filed_dd        356744 non-null  object \n",
      " 7   filed_mon       356748 non-null  object \n",
      " 8   filed_yyyy      357224 non-null  float64\n",
      " 9   case_type       357228 non-null  object \n",
      " 10  judge           355142 non-null  object \n",
      " 11  comingfor       357229 non-null  object \n",
      " 12  outcome         357229 non-null  object \n",
      " 13  reason_adj      19303 non-null   object \n",
      " 14  next_dd         264858 non-null  object \n",
      " 15  next_mon        264858 non-null  object \n",
      " 16  next_yyyy       264849 non-null  object \n",
      " 17  fisrtparty_m    154212 non-null  object \n",
      " 18  firstparty_f    54968 non-null   float64\n",
      " 19  firstparty_org  114241 non-null  float64\n",
      " 20  secondparty_m   130603 non-null  float64\n",
      " 21  secondparty_f   51315 non-null   float64\n",
      " 22  secondparty_o   147066 non-null  float64\n",
      " 23  legalrep        352715 non-null  object \n",
      " 24  p_witness       16668 non-null   float64\n",
      " 25  d_witness       14355 non-null   float64\n",
      " 26  custody         292139 non-null  float64\n",
      " 27  other_details   51857 non-null   object \n",
      "dtypes: float64(11), object(17)\n",
      "memory usage: 76.3+ MB\n"
     ]
    }
   ],
   "source": [
    "# brief description of the data\n",
    "court_data.info()"
   ]
  },
  {
   "cell_type": "code",
   "execution_count": 13,
   "id": "140e1b08-1f5a-4b2d-85f9-165baeb1eefd",
   "metadata": {
    "tags": []
   },
   "outputs": [
    {
     "data": {
      "text/html": [
       "<div>\n",
       "<style scoped>\n",
       "    .dataframe tbody tr th:only-of-type {\n",
       "        vertical-align: middle;\n",
       "    }\n",
       "\n",
       "    .dataframe tbody tr th {\n",
       "        vertical-align: top;\n",
       "    }\n",
       "\n",
       "    .dataframe thead th {\n",
       "        text-align: right;\n",
       "    }\n",
       "</style>\n",
       "<table border=\"1\" class=\"dataframe\">\n",
       "  <thead>\n",
       "    <tr style=\"text-align: right;\">\n",
       "      <th></th>\n",
       "      <th>date_dd</th>\n",
       "      <th>date_yyyy</th>\n",
       "      <th>filed_yyyy</th>\n",
       "      <th>firstparty_f</th>\n",
       "      <th>firstparty_org</th>\n",
       "      <th>secondparty_m</th>\n",
       "      <th>secondparty_f</th>\n",
       "      <th>secondparty_o</th>\n",
       "      <th>p_witness</th>\n",
       "      <th>d_witness</th>\n",
       "      <th>custody</th>\n",
       "    </tr>\n",
       "  </thead>\n",
       "  <tbody>\n",
       "    <tr>\n",
       "      <th>count</th>\n",
       "      <td>357228.000000</td>\n",
       "      <td>357228.000000</td>\n",
       "      <td>357224.000000</td>\n",
       "      <td>54968.000000</td>\n",
       "      <td>114241.000000</td>\n",
       "      <td>130603.000000</td>\n",
       "      <td>51315.000000</td>\n",
       "      <td>147066.000000</td>\n",
       "      <td>16668.000000</td>\n",
       "      <td>14355.000000</td>\n",
       "      <td>292139.000000</td>\n",
       "    </tr>\n",
       "    <tr>\n",
       "      <th>mean</th>\n",
       "      <td>16.509898</td>\n",
       "      <td>2022.543107</td>\n",
       "      <td>2018.897983</td>\n",
       "      <td>1.217217</td>\n",
       "      <td>1.088760</td>\n",
       "      <td>1.401354</td>\n",
       "      <td>1.235214</td>\n",
       "      <td>1.407484</td>\n",
       "      <td>0.779098</td>\n",
       "      <td>0.551585</td>\n",
       "      <td>0.117930</td>\n",
       "    </tr>\n",
       "    <tr>\n",
       "      <th>std</th>\n",
       "      <td>8.587839</td>\n",
       "      <td>0.498229</td>\n",
       "      <td>6.918775</td>\n",
       "      <td>0.739539</td>\n",
       "      <td>0.521945</td>\n",
       "      <td>1.111128</td>\n",
       "      <td>0.815561</td>\n",
       "      <td>1.447958</td>\n",
       "      <td>1.169312</td>\n",
       "      <td>0.800000</td>\n",
       "      <td>2.200147</td>\n",
       "    </tr>\n",
       "    <tr>\n",
       "      <th>min</th>\n",
       "      <td>1.000000</td>\n",
       "      <td>2017.000000</td>\n",
       "      <td>18.000000</td>\n",
       "      <td>0.000000</td>\n",
       "      <td>0.000000</td>\n",
       "      <td>0.000000</td>\n",
       "      <td>0.000000</td>\n",
       "      <td>0.000000</td>\n",
       "      <td>0.000000</td>\n",
       "      <td>0.000000</td>\n",
       "      <td>0.000000</td>\n",
       "    </tr>\n",
       "    <tr>\n",
       "      <th>25%</th>\n",
       "      <td>9.000000</td>\n",
       "      <td>2022.000000</td>\n",
       "      <td>2018.000000</td>\n",
       "      <td>1.000000</td>\n",
       "      <td>1.000000</td>\n",
       "      <td>1.000000</td>\n",
       "      <td>1.000000</td>\n",
       "      <td>1.000000</td>\n",
       "      <td>0.000000</td>\n",
       "      <td>0.000000</td>\n",
       "      <td>0.000000</td>\n",
       "    </tr>\n",
       "    <tr>\n",
       "      <th>50%</th>\n",
       "      <td>17.000000</td>\n",
       "      <td>2023.000000</td>\n",
       "      <td>2021.000000</td>\n",
       "      <td>1.000000</td>\n",
       "      <td>1.000000</td>\n",
       "      <td>1.000000</td>\n",
       "      <td>1.000000</td>\n",
       "      <td>1.000000</td>\n",
       "      <td>1.000000</td>\n",
       "      <td>0.000000</td>\n",
       "      <td>0.000000</td>\n",
       "    </tr>\n",
       "    <tr>\n",
       "      <th>75%</th>\n",
       "      <td>24.000000</td>\n",
       "      <td>2023.000000</td>\n",
       "      <td>2022.000000</td>\n",
       "      <td>1.000000</td>\n",
       "      <td>1.000000</td>\n",
       "      <td>1.000000</td>\n",
       "      <td>1.000000</td>\n",
       "      <td>1.000000</td>\n",
       "      <td>1.000000</td>\n",
       "      <td>1.000000</td>\n",
       "      <td>0.000000</td>\n",
       "    </tr>\n",
       "    <tr>\n",
       "      <th>max</th>\n",
       "      <td>31.000000</td>\n",
       "      <td>2023.000000</td>\n",
       "      <td>2920.000000</td>\n",
       "      <td>29.000000</td>\n",
       "      <td>25.000000</td>\n",
       "      <td>59.000000</td>\n",
       "      <td>46.000000</td>\n",
       "      <td>97.000000</td>\n",
       "      <td>38.000000</td>\n",
       "      <td>15.000000</td>\n",
       "      <td>1133.000000</td>\n",
       "    </tr>\n",
       "  </tbody>\n",
       "</table>\n",
       "</div>"
      ],
      "text/plain": [
       "             date_dd      date_yyyy     filed_yyyy  firstparty_f  \\\n",
       "count  357228.000000  357228.000000  357224.000000  54968.000000   \n",
       "mean       16.509898    2022.543107    2018.897983      1.217217   \n",
       "std         8.587839       0.498229       6.918775      0.739539   \n",
       "min         1.000000    2017.000000      18.000000      0.000000   \n",
       "25%         9.000000    2022.000000    2018.000000      1.000000   \n",
       "50%        17.000000    2023.000000    2021.000000      1.000000   \n",
       "75%        24.000000    2023.000000    2022.000000      1.000000   \n",
       "max        31.000000    2023.000000    2920.000000     29.000000   \n",
       "\n",
       "       firstparty_org  secondparty_m  secondparty_f  secondparty_o  \\\n",
       "count   114241.000000  130603.000000   51315.000000  147066.000000   \n",
       "mean         1.088760       1.401354       1.235214       1.407484   \n",
       "std          0.521945       1.111128       0.815561       1.447958   \n",
       "min          0.000000       0.000000       0.000000       0.000000   \n",
       "25%          1.000000       1.000000       1.000000       1.000000   \n",
       "50%          1.000000       1.000000       1.000000       1.000000   \n",
       "75%          1.000000       1.000000       1.000000       1.000000   \n",
       "max         25.000000      59.000000      46.000000      97.000000   \n",
       "\n",
       "          p_witness     d_witness        custody  \n",
       "count  16668.000000  14355.000000  292139.000000  \n",
       "mean       0.779098      0.551585       0.117930  \n",
       "std        1.169312      0.800000       2.200147  \n",
       "min        0.000000      0.000000       0.000000  \n",
       "25%        0.000000      0.000000       0.000000  \n",
       "50%        1.000000      0.000000       0.000000  \n",
       "75%        1.000000      1.000000       0.000000  \n",
       "max       38.000000     15.000000    1133.000000  "
      ]
     },
     "execution_count": 13,
     "metadata": {},
     "output_type": "execute_result"
    }
   ],
   "source": [
    "court_data.describe()"
   ]
  },
  {
   "cell_type": "code",
   "execution_count": 14,
   "id": "1745aeaa-3451-4cd4-904e-4548a62a9b31",
   "metadata": {
    "tags": []
   },
   "outputs": [
    {
     "data": {
      "text/plain": [
       "MENTION DATE SET (IN COURT)      111180\n",
       "DIRECTIONS GIVEN                  63999\n",
       "CASE REGISTERED/FILED             34890\n",
       "HEARING DATE SET (IN COURT)       29376\n",
       "ADJOURNMENT                       18788\n",
       "                                  ...  \n",
       "PLACED BEFORE PRESIDING JUDGE         1\n",
       "TAKEN TO PJ FOR CERTIFICATE           1\n",
       "MATTER MARKED AS CLOSED               1\n",
       "TRANSFERRED TO ELC                    1\n",
       "PLEA                                  1\n",
       "Name: outcome, Length: 130, dtype: int64"
      ]
     },
     "execution_count": 14,
     "metadata": {},
     "output_type": "execute_result"
    }
   ],
   "source": [
    "court_data[\"outcome\"].value_counts()"
   ]
  },
  {
   "cell_type": "markdown",
   "id": "1bc2af68-2c1b-4671-b5c8-4d5cec854c5d",
   "metadata": {},
   "source": [
    "## Data Cleaning\n",
    "Understanding the different types of data issues that may be available in your data\n",
    "* Missing Values\n",
    "* Duplicated Entries\n",
    "* Outliers\n",
    "* Inconsistencies"
   ]
  },
  {
   "cell_type": "code",
   "execution_count": 15,
   "id": "7f0622d3-bd38-46f0-9d7d-53bf2cd4d1b8",
   "metadata": {},
   "outputs": [
    {
     "data": {
      "text/plain": [
       "0         False\n",
       "1         False\n",
       "2         False\n",
       "3         False\n",
       "4         False\n",
       "          ...  \n",
       "357224    False\n",
       "357225    False\n",
       "357226    False\n",
       "357227    False\n",
       "357228    False\n",
       "Length: 357229, dtype: bool"
      ]
     },
     "execution_count": 15,
     "metadata": {},
     "output_type": "execute_result"
    }
   ],
   "source": [
    "court_data.duplicated()"
   ]
  },
  {
   "cell_type": "code",
   "execution_count": 16,
   "id": "f05c8f8b-2491-4763-9805-8322a9c2a1bf",
   "metadata": {
    "tags": []
   },
   "outputs": [
    {
     "data": {
      "text/plain": [
       "True"
      ]
     },
     "execution_count": 16,
     "metadata": {},
     "output_type": "execute_result"
    }
   ],
   "source": [
    "court_data.duplicated().any()"
   ]
  },
  {
   "cell_type": "code",
   "execution_count": 17,
   "id": "9bdf4a2c-a0bd-41ed-9e09-d3739db0c476",
   "metadata": {
    "tags": []
   },
   "outputs": [
    {
     "data": {
      "text/plain": [
       "False    353052\n",
       "True       4177\n",
       "dtype: int64"
      ]
     },
     "execution_count": 17,
     "metadata": {},
     "output_type": "execute_result"
    }
   ],
   "source": [
    "court_data.duplicated().value_counts()"
   ]
  },
  {
   "cell_type": "code",
   "execution_count": 19,
   "id": "9f5a64e1-0d8a-4250-bb0c-97ea2adc0160",
   "metadata": {
    "tags": []
   },
   "outputs": [
    {
     "data": {
      "text/plain": [
       "4177"
      ]
     },
     "execution_count": 19,
     "metadata": {},
     "output_type": "execute_result"
    }
   ],
   "source": [
    "dup_no = 0\n",
    "for dup in court_data.duplicated():\n",
    "    if (dup == True):\n",
    "        dup_no += 1\n",
    "dup_no"
   ]
  },
  {
   "cell_type": "code",
   "execution_count": 20,
   "id": "23aefc4f-0f07-4dff-9cc4-320a66120729",
   "metadata": {
    "tags": []
   },
   "outputs": [
    {
     "name": "stdout",
     "output_type": "stream",
     "text": [
      "1.1693% of the Court Data is duplicated\n"
     ]
    }
   ],
   "source": [
    "print(f\"{np.round(((dup_no/len(court_data)) * 100), 4)}% of the Court Data is duplicated\")"
   ]
  },
  {
   "cell_type": "code",
   "execution_count": 25,
   "id": "7a608550-fef4-4341-ba71-e07f65808c5a",
   "metadata": {
    "tags": []
   },
   "outputs": [],
   "source": [
    "court_data.drop_duplicates(subset= None, keep= \"first\", inplace = True)"
   ]
  },
  {
   "cell_type": "code",
   "execution_count": 27,
   "id": "7ddf568d-9c48-4b93-b76e-2a5fd8183ebf",
   "metadata": {
    "tags": []
   },
   "outputs": [
    {
     "data": {
      "text/plain": [
       "False    353052\n",
       "dtype: int64"
      ]
     },
     "execution_count": 27,
     "metadata": {},
     "output_type": "execute_result"
    }
   ],
   "source": [
    "court_data.duplicated().value_counts()"
   ]
  },
  {
   "cell_type": "code",
   "execution_count": null,
   "id": "8140fe5f-356d-4c12-8e2b-c97778eef0bc",
   "metadata": {},
   "outputs": [],
   "source": []
  },
  {
   "cell_type": "code",
   "execution_count": null,
   "id": "61fd200a-70e8-401b-8514-87075916bd23",
   "metadata": {
    "tags": []
   },
   "outputs": [],
   "source": []
  },
  {
   "cell_type": "code",
   "execution_count": null,
   "id": "20574297-99f7-4cbc-a435-b5f2363a1fc0",
   "metadata": {},
   "outputs": [],
   "source": []
  }
 ],
 "metadata": {
  "kernelspec": {
   "display_name": "Python 3 (ipykernel)",
   "language": "python",
   "name": "python3"
  },
  "language_info": {
   "codemirror_mode": {
    "name": "ipython",
    "version": 3
   },
   "file_extension": ".py",
   "mimetype": "text/x-python",
   "name": "python",
   "nbconvert_exporter": "python",
   "pygments_lexer": "ipython3",
   "version": "3.11.3"
  }
 },
 "nbformat": 4,
 "nbformat_minor": 5
}
