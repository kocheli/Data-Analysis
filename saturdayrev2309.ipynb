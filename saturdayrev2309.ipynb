{
 "cells": [
  {
   "cell_type": "code",
   "execution_count": 1,
   "id": "82eb04a8-841c-48f3-84c2-98db9e48d170",
   "metadata": {
    "tags": []
   },
   "outputs": [],
   "source": [
    "import pandas as pd\n",
    "import numpy as np"
   ]
  },
  {
   "cell_type": "code",
   "execution_count": 3,
   "id": "74b0af07-bd75-4de2-a17e-62b768323289",
   "metadata": {
    "tags": []
   },
   "outputs": [],
   "source": [
    "# creating an empty data frame of 20 rows\n",
    "data = pd.DataFrame(index=range(20))"
   ]
  },
  {
   "cell_type": "code",
   "execution_count": 15,
   "id": "73a66a13-ba2d-414a-939a-f4355cd309f0",
   "metadata": {
    "tags": []
   },
   "outputs": [],
   "source": [
    "np.random.seed(43)"
   ]
  },
  {
   "cell_type": "code",
   "execution_count": 16,
   "id": "0aa978b9-ccd2-4e9f-af65-59291d727840",
   "metadata": {
    "tags": []
   },
   "outputs": [],
   "source": [
    "# populate column A with beers randomly\n",
    "data[\"A\"] = np.random.choice([\"Tusker\", \"White Cup\", \"Balozi\"], size = len(data))\n",
    "# populate column B with random integers\n",
    "data[\"B\"] = np.random.randint(10, 20, size=len(data))\n",
    "# populate column C with random floats\n",
    "data[\"C\"] = np.random.random(size=len(data))"
   ]
  },
  {
   "cell_type": "code",
   "execution_count": 17,
   "id": "33b270c2-ad7b-4388-be06-e0eeb29dd0b1",
   "metadata": {
    "tags": []
   },
   "outputs": [
    {
     "data": {
      "text/html": [
       "<div>\n",
       "<style scoped>\n",
       "    .dataframe tbody tr th:only-of-type {\n",
       "        vertical-align: middle;\n",
       "    }\n",
       "\n",
       "    .dataframe tbody tr th {\n",
       "        vertical-align: top;\n",
       "    }\n",
       "\n",
       "    .dataframe thead th {\n",
       "        text-align: right;\n",
       "    }\n",
       "</style>\n",
       "<table border=\"1\" class=\"dataframe\">\n",
       "  <thead>\n",
       "    <tr style=\"text-align: right;\">\n",
       "      <th></th>\n",
       "      <th>A</th>\n",
       "      <th>B</th>\n",
       "      <th>C</th>\n",
       "    </tr>\n",
       "  </thead>\n",
       "  <tbody>\n",
       "    <tr>\n",
       "      <th>0</th>\n",
       "      <td>Tusker</td>\n",
       "      <td>15</td>\n",
       "      <td>0.421096</td>\n",
       "    </tr>\n",
       "    <tr>\n",
       "      <th>1</th>\n",
       "      <td>Tusker</td>\n",
       "      <td>18</td>\n",
       "      <td>0.444821</td>\n",
       "    </tr>\n",
       "    <tr>\n",
       "      <th>2</th>\n",
       "      <td>White Cup</td>\n",
       "      <td>10</td>\n",
       "      <td>0.824768</td>\n",
       "    </tr>\n",
       "    <tr>\n",
       "      <th>3</th>\n",
       "      <td>White Cup</td>\n",
       "      <td>10</td>\n",
       "      <td>0.162654</td>\n",
       "    </tr>\n",
       "    <tr>\n",
       "      <th>4</th>\n",
       "      <td>Balozi</td>\n",
       "      <td>19</td>\n",
       "      <td>0.396694</td>\n",
       "    </tr>\n",
       "  </tbody>\n",
       "</table>\n",
       "</div>"
      ],
      "text/plain": [
       "           A   B         C\n",
       "0     Tusker  15  0.421096\n",
       "1     Tusker  18  0.444821\n",
       "2  White Cup  10  0.824768\n",
       "3  White Cup  10  0.162654\n",
       "4     Balozi  19  0.396694"
      ]
     },
     "execution_count": 17,
     "metadata": {},
     "output_type": "execute_result"
    }
   ],
   "source": [
    "data.head()"
   ]
  },
  {
   "cell_type": "code",
   "execution_count": 18,
   "id": "5435d634-0424-4356-b520-9191f70449d4",
   "metadata": {
    "tags": []
   },
   "outputs": [],
   "source": [
    "# empty dataframe of 20 rows\n",
    "add_data = pd.DataFrame(index=range(10))"
   ]
  },
  {
   "cell_type": "code",
   "execution_count": 19,
   "id": "bdf10f6e-267d-46c4-a71c-bd0010c1f584",
   "metadata": {
    "tags": []
   },
   "outputs": [],
   "source": [
    "add_data[\"A\"] = np.random.choice([\"Fiesta\", \"Konyangi\", \"Gilbeys\"], size = len(add_data))\n",
    "add_data[\"B\"] = np.random.randint(10, 20, size=len(add_data))\n",
    "add_data[\"C\"] = np.random.random(size=len(add_data))"
   ]
  },
  {
   "cell_type": "code",
   "execution_count": 14,
   "id": "c7301a7d-87b8-4abe-abcc-d6b1c00d547a",
   "metadata": {
    "tags": []
   },
   "outputs": [
    {
     "data": {
      "text/html": [
       "<div>\n",
       "<style scoped>\n",
       "    .dataframe tbody tr th:only-of-type {\n",
       "        vertical-align: middle;\n",
       "    }\n",
       "\n",
       "    .dataframe tbody tr th {\n",
       "        vertical-align: top;\n",
       "    }\n",
       "\n",
       "    .dataframe thead th {\n",
       "        text-align: right;\n",
       "    }\n",
       "</style>\n",
       "<table border=\"1\" class=\"dataframe\">\n",
       "  <thead>\n",
       "    <tr style=\"text-align: right;\">\n",
       "      <th></th>\n",
       "      <th>A</th>\n",
       "      <th>B</th>\n",
       "      <th>C</th>\n",
       "    </tr>\n",
       "  </thead>\n",
       "  <tbody>\n",
       "    <tr>\n",
       "      <th>0</th>\n",
       "      <td>Gilbeys</td>\n",
       "      <td>19</td>\n",
       "      <td>0.524414</td>\n",
       "    </tr>\n",
       "    <tr>\n",
       "      <th>1</th>\n",
       "      <td>Fiesta</td>\n",
       "      <td>19</td>\n",
       "      <td>0.675990</td>\n",
       "    </tr>\n",
       "    <tr>\n",
       "      <th>2</th>\n",
       "      <td>Fiesta</td>\n",
       "      <td>18</td>\n",
       "      <td>0.045843</td>\n",
       "    </tr>\n",
       "    <tr>\n",
       "      <th>3</th>\n",
       "      <td>Fiesta</td>\n",
       "      <td>15</td>\n",
       "      <td>0.242637</td>\n",
       "    </tr>\n",
       "    <tr>\n",
       "      <th>4</th>\n",
       "      <td>Gilbeys</td>\n",
       "      <td>12</td>\n",
       "      <td>0.402614</td>\n",
       "    </tr>\n",
       "  </tbody>\n",
       "</table>\n",
       "</div>"
      ],
      "text/plain": [
       "         A   B         C\n",
       "0  Gilbeys  19  0.524414\n",
       "1   Fiesta  19  0.675990\n",
       "2   Fiesta  18  0.045843\n",
       "3   Fiesta  15  0.242637\n",
       "4  Gilbeys  12  0.402614"
      ]
     },
     "execution_count": 14,
     "metadata": {},
     "output_type": "execute_result"
    }
   ],
   "source": [
    "add_data.head()"
   ]
  },
  {
   "cell_type": "code",
   "execution_count": 31,
   "id": "f9351c68-3c73-4421-9555-8bc45094fbb2",
   "metadata": {
    "tags": []
   },
   "outputs": [],
   "source": [
    "new_data = pd.concat([data, add_data], axis=0, ignore_index=True)"
   ]
  },
  {
   "cell_type": "code",
   "execution_count": 32,
   "id": "5d52b13b-e0fb-4f00-9888-b6dbfa178d83",
   "metadata": {
    "tags": []
   },
   "outputs": [
    {
     "data": {
      "text/plain": [
       "(30, 3)"
      ]
     },
     "execution_count": 32,
     "metadata": {},
     "output_type": "execute_result"
    }
   ],
   "source": [
    "new_data.shape"
   ]
  },
  {
   "cell_type": "code",
   "execution_count": 33,
   "id": "472fcf56-6033-450b-a8f0-9976a8dd9b90",
   "metadata": {
    "tags": []
   },
   "outputs": [
    {
     "data": {
      "text/html": [
       "<div>\n",
       "<style scoped>\n",
       "    .dataframe tbody tr th:only-of-type {\n",
       "        vertical-align: middle;\n",
       "    }\n",
       "\n",
       "    .dataframe tbody tr th {\n",
       "        vertical-align: top;\n",
       "    }\n",
       "\n",
       "    .dataframe thead th {\n",
       "        text-align: right;\n",
       "    }\n",
       "</style>\n",
       "<table border=\"1\" class=\"dataframe\">\n",
       "  <thead>\n",
       "    <tr style=\"text-align: right;\">\n",
       "      <th></th>\n",
       "      <th>A</th>\n",
       "      <th>B</th>\n",
       "      <th>C</th>\n",
       "    </tr>\n",
       "  </thead>\n",
       "  <tbody>\n",
       "    <tr>\n",
       "      <th>0</th>\n",
       "      <td>Tusker</td>\n",
       "      <td>15</td>\n",
       "      <td>0.421096</td>\n",
       "    </tr>\n",
       "    <tr>\n",
       "      <th>1</th>\n",
       "      <td>Tusker</td>\n",
       "      <td>18</td>\n",
       "      <td>0.444821</td>\n",
       "    </tr>\n",
       "    <tr>\n",
       "      <th>2</th>\n",
       "      <td>White Cup</td>\n",
       "      <td>10</td>\n",
       "      <td>0.824768</td>\n",
       "    </tr>\n",
       "    <tr>\n",
       "      <th>3</th>\n",
       "      <td>White Cup</td>\n",
       "      <td>10</td>\n",
       "      <td>0.162654</td>\n",
       "    </tr>\n",
       "    <tr>\n",
       "      <th>4</th>\n",
       "      <td>Balozi</td>\n",
       "      <td>19</td>\n",
       "      <td>0.396694</td>\n",
       "    </tr>\n",
       "    <tr>\n",
       "      <th>5</th>\n",
       "      <td>Tusker</td>\n",
       "      <td>12</td>\n",
       "      <td>0.874303</td>\n",
       "    </tr>\n",
       "    <tr>\n",
       "      <th>6</th>\n",
       "      <td>White Cup</td>\n",
       "      <td>10</td>\n",
       "      <td>0.963424</td>\n",
       "    </tr>\n",
       "    <tr>\n",
       "      <th>7</th>\n",
       "      <td>Balozi</td>\n",
       "      <td>14</td>\n",
       "      <td>0.795116</td>\n",
       "    </tr>\n",
       "    <tr>\n",
       "      <th>8</th>\n",
       "      <td>Balozi</td>\n",
       "      <td>14</td>\n",
       "      <td>0.118452</td>\n",
       "    </tr>\n",
       "    <tr>\n",
       "      <th>9</th>\n",
       "      <td>Balozi</td>\n",
       "      <td>18</td>\n",
       "      <td>0.937555</td>\n",
       "    </tr>\n",
       "    <tr>\n",
       "      <th>10</th>\n",
       "      <td>Tusker</td>\n",
       "      <td>19</td>\n",
       "      <td>0.153458</td>\n",
       "    </tr>\n",
       "    <tr>\n",
       "      <th>11</th>\n",
       "      <td>Balozi</td>\n",
       "      <td>17</td>\n",
       "      <td>0.472939</td>\n",
       "    </tr>\n",
       "    <tr>\n",
       "      <th>12</th>\n",
       "      <td>White Cup</td>\n",
       "      <td>14</td>\n",
       "      <td>0.608998</td>\n",
       "    </tr>\n",
       "    <tr>\n",
       "      <th>13</th>\n",
       "      <td>White Cup</td>\n",
       "      <td>18</td>\n",
       "      <td>0.264513</td>\n",
       "    </tr>\n",
       "    <tr>\n",
       "      <th>14</th>\n",
       "      <td>Balozi</td>\n",
       "      <td>15</td>\n",
       "      <td>0.921975</td>\n",
       "    </tr>\n",
       "    <tr>\n",
       "      <th>15</th>\n",
       "      <td>Balozi</td>\n",
       "      <td>10</td>\n",
       "      <td>0.932282</td>\n",
       "    </tr>\n",
       "    <tr>\n",
       "      <th>16</th>\n",
       "      <td>White Cup</td>\n",
       "      <td>13</td>\n",
       "      <td>0.134822</td>\n",
       "    </tr>\n",
       "    <tr>\n",
       "      <th>17</th>\n",
       "      <td>Tusker</td>\n",
       "      <td>12</td>\n",
       "      <td>0.804511</td>\n",
       "    </tr>\n",
       "    <tr>\n",
       "      <th>18</th>\n",
       "      <td>Tusker</td>\n",
       "      <td>19</td>\n",
       "      <td>0.916869</td>\n",
       "    </tr>\n",
       "    <tr>\n",
       "      <th>19</th>\n",
       "      <td>Tusker</td>\n",
       "      <td>19</td>\n",
       "      <td>0.532434</td>\n",
       "    </tr>\n",
       "    <tr>\n",
       "      <th>20</th>\n",
       "      <td>Gilbeys</td>\n",
       "      <td>17</td>\n",
       "      <td>0.655963</td>\n",
       "    </tr>\n",
       "    <tr>\n",
       "      <th>21</th>\n",
       "      <td>Konyangi</td>\n",
       "      <td>11</td>\n",
       "      <td>0.299617</td>\n",
       "    </tr>\n",
       "    <tr>\n",
       "      <th>22</th>\n",
       "      <td>Gilbeys</td>\n",
       "      <td>13</td>\n",
       "      <td>0.144478</td>\n",
       "    </tr>\n",
       "    <tr>\n",
       "      <th>23</th>\n",
       "      <td>Konyangi</td>\n",
       "      <td>11</td>\n",
       "      <td>0.403957</td>\n",
       "    </tr>\n",
       "    <tr>\n",
       "      <th>24</th>\n",
       "      <td>Gilbeys</td>\n",
       "      <td>15</td>\n",
       "      <td>0.310270</td>\n",
       "    </tr>\n",
       "    <tr>\n",
       "      <th>25</th>\n",
       "      <td>Fiesta</td>\n",
       "      <td>18</td>\n",
       "      <td>0.243398</td>\n",
       "    </tr>\n",
       "    <tr>\n",
       "      <th>26</th>\n",
       "      <td>Fiesta</td>\n",
       "      <td>10</td>\n",
       "      <td>0.588104</td>\n",
       "    </tr>\n",
       "    <tr>\n",
       "      <th>27</th>\n",
       "      <td>Fiesta</td>\n",
       "      <td>13</td>\n",
       "      <td>0.245343</td>\n",
       "    </tr>\n",
       "    <tr>\n",
       "      <th>28</th>\n",
       "      <td>Gilbeys</td>\n",
       "      <td>16</td>\n",
       "      <td>0.747771</td>\n",
       "    </tr>\n",
       "    <tr>\n",
       "      <th>29</th>\n",
       "      <td>Konyangi</td>\n",
       "      <td>19</td>\n",
       "      <td>0.720147</td>\n",
       "    </tr>\n",
       "  </tbody>\n",
       "</table>\n",
       "</div>"
      ],
      "text/plain": [
       "            A   B         C\n",
       "0      Tusker  15  0.421096\n",
       "1      Tusker  18  0.444821\n",
       "2   White Cup  10  0.824768\n",
       "3   White Cup  10  0.162654\n",
       "4      Balozi  19  0.396694\n",
       "5      Tusker  12  0.874303\n",
       "6   White Cup  10  0.963424\n",
       "7      Balozi  14  0.795116\n",
       "8      Balozi  14  0.118452\n",
       "9      Balozi  18  0.937555\n",
       "10     Tusker  19  0.153458\n",
       "11     Balozi  17  0.472939\n",
       "12  White Cup  14  0.608998\n",
       "13  White Cup  18  0.264513\n",
       "14     Balozi  15  0.921975\n",
       "15     Balozi  10  0.932282\n",
       "16  White Cup  13  0.134822\n",
       "17     Tusker  12  0.804511\n",
       "18     Tusker  19  0.916869\n",
       "19     Tusker  19  0.532434\n",
       "20    Gilbeys  17  0.655963\n",
       "21   Konyangi  11  0.299617\n",
       "22    Gilbeys  13  0.144478\n",
       "23   Konyangi  11  0.403957\n",
       "24    Gilbeys  15  0.310270\n",
       "25     Fiesta  18  0.243398\n",
       "26     Fiesta  10  0.588104\n",
       "27     Fiesta  13  0.245343\n",
       "28    Gilbeys  16  0.747771\n",
       "29   Konyangi  19  0.720147"
      ]
     },
     "execution_count": 33,
     "metadata": {},
     "output_type": "execute_result"
    }
   ],
   "source": [
    "new_data"
   ]
  },
  {
   "cell_type": "code",
   "execution_count": 29,
   "id": "3f037963-1634-45f2-9afc-a3b816b8f69e",
   "metadata": {
    "tags": []
   },
   "outputs": [],
   "source": [
    "column_data = pd.concat([data, add_data], axis=1, ignore_index=False)"
   ]
  },
  {
   "cell_type": "code",
   "execution_count": 30,
   "id": "4574beae-ec3a-49bb-af4f-5e38485ea8d9",
   "metadata": {
    "tags": []
   },
   "outputs": [
    {
     "data": {
      "text/html": [
       "<div>\n",
       "<style scoped>\n",
       "    .dataframe tbody tr th:only-of-type {\n",
       "        vertical-align: middle;\n",
       "    }\n",
       "\n",
       "    .dataframe tbody tr th {\n",
       "        vertical-align: top;\n",
       "    }\n",
       "\n",
       "    .dataframe thead th {\n",
       "        text-align: right;\n",
       "    }\n",
       "</style>\n",
       "<table border=\"1\" class=\"dataframe\">\n",
       "  <thead>\n",
       "    <tr style=\"text-align: right;\">\n",
       "      <th></th>\n",
       "      <th>A</th>\n",
       "      <th>B</th>\n",
       "      <th>C</th>\n",
       "      <th>A</th>\n",
       "      <th>B</th>\n",
       "      <th>C</th>\n",
       "    </tr>\n",
       "  </thead>\n",
       "  <tbody>\n",
       "    <tr>\n",
       "      <th>0</th>\n",
       "      <td>Tusker</td>\n",
       "      <td>15</td>\n",
       "      <td>0.421096</td>\n",
       "      <td>Gilbeys</td>\n",
       "      <td>17.0</td>\n",
       "      <td>0.655963</td>\n",
       "    </tr>\n",
       "    <tr>\n",
       "      <th>1</th>\n",
       "      <td>Tusker</td>\n",
       "      <td>18</td>\n",
       "      <td>0.444821</td>\n",
       "      <td>Konyangi</td>\n",
       "      <td>11.0</td>\n",
       "      <td>0.299617</td>\n",
       "    </tr>\n",
       "    <tr>\n",
       "      <th>2</th>\n",
       "      <td>White Cup</td>\n",
       "      <td>10</td>\n",
       "      <td>0.824768</td>\n",
       "      <td>Gilbeys</td>\n",
       "      <td>13.0</td>\n",
       "      <td>0.144478</td>\n",
       "    </tr>\n",
       "    <tr>\n",
       "      <th>3</th>\n",
       "      <td>White Cup</td>\n",
       "      <td>10</td>\n",
       "      <td>0.162654</td>\n",
       "      <td>Konyangi</td>\n",
       "      <td>11.0</td>\n",
       "      <td>0.403957</td>\n",
       "    </tr>\n",
       "    <tr>\n",
       "      <th>4</th>\n",
       "      <td>Balozi</td>\n",
       "      <td>19</td>\n",
       "      <td>0.396694</td>\n",
       "      <td>Gilbeys</td>\n",
       "      <td>15.0</td>\n",
       "      <td>0.310270</td>\n",
       "    </tr>\n",
       "    <tr>\n",
       "      <th>5</th>\n",
       "      <td>Tusker</td>\n",
       "      <td>12</td>\n",
       "      <td>0.874303</td>\n",
       "      <td>Fiesta</td>\n",
       "      <td>18.0</td>\n",
       "      <td>0.243398</td>\n",
       "    </tr>\n",
       "    <tr>\n",
       "      <th>6</th>\n",
       "      <td>White Cup</td>\n",
       "      <td>10</td>\n",
       "      <td>0.963424</td>\n",
       "      <td>Fiesta</td>\n",
       "      <td>10.0</td>\n",
       "      <td>0.588104</td>\n",
       "    </tr>\n",
       "    <tr>\n",
       "      <th>7</th>\n",
       "      <td>Balozi</td>\n",
       "      <td>14</td>\n",
       "      <td>0.795116</td>\n",
       "      <td>Fiesta</td>\n",
       "      <td>13.0</td>\n",
       "      <td>0.245343</td>\n",
       "    </tr>\n",
       "    <tr>\n",
       "      <th>8</th>\n",
       "      <td>Balozi</td>\n",
       "      <td>14</td>\n",
       "      <td>0.118452</td>\n",
       "      <td>Gilbeys</td>\n",
       "      <td>16.0</td>\n",
       "      <td>0.747771</td>\n",
       "    </tr>\n",
       "    <tr>\n",
       "      <th>9</th>\n",
       "      <td>Balozi</td>\n",
       "      <td>18</td>\n",
       "      <td>0.937555</td>\n",
       "      <td>Konyangi</td>\n",
       "      <td>19.0</td>\n",
       "      <td>0.720147</td>\n",
       "    </tr>\n",
       "    <tr>\n",
       "      <th>10</th>\n",
       "      <td>Tusker</td>\n",
       "      <td>19</td>\n",
       "      <td>0.153458</td>\n",
       "      <td>NaN</td>\n",
       "      <td>NaN</td>\n",
       "      <td>NaN</td>\n",
       "    </tr>\n",
       "    <tr>\n",
       "      <th>11</th>\n",
       "      <td>Balozi</td>\n",
       "      <td>17</td>\n",
       "      <td>0.472939</td>\n",
       "      <td>NaN</td>\n",
       "      <td>NaN</td>\n",
       "      <td>NaN</td>\n",
       "    </tr>\n",
       "    <tr>\n",
       "      <th>12</th>\n",
       "      <td>White Cup</td>\n",
       "      <td>14</td>\n",
       "      <td>0.608998</td>\n",
       "      <td>NaN</td>\n",
       "      <td>NaN</td>\n",
       "      <td>NaN</td>\n",
       "    </tr>\n",
       "    <tr>\n",
       "      <th>13</th>\n",
       "      <td>White Cup</td>\n",
       "      <td>18</td>\n",
       "      <td>0.264513</td>\n",
       "      <td>NaN</td>\n",
       "      <td>NaN</td>\n",
       "      <td>NaN</td>\n",
       "    </tr>\n",
       "    <tr>\n",
       "      <th>14</th>\n",
       "      <td>Balozi</td>\n",
       "      <td>15</td>\n",
       "      <td>0.921975</td>\n",
       "      <td>NaN</td>\n",
       "      <td>NaN</td>\n",
       "      <td>NaN</td>\n",
       "    </tr>\n",
       "    <tr>\n",
       "      <th>15</th>\n",
       "      <td>Balozi</td>\n",
       "      <td>10</td>\n",
       "      <td>0.932282</td>\n",
       "      <td>NaN</td>\n",
       "      <td>NaN</td>\n",
       "      <td>NaN</td>\n",
       "    </tr>\n",
       "    <tr>\n",
       "      <th>16</th>\n",
       "      <td>White Cup</td>\n",
       "      <td>13</td>\n",
       "      <td>0.134822</td>\n",
       "      <td>NaN</td>\n",
       "      <td>NaN</td>\n",
       "      <td>NaN</td>\n",
       "    </tr>\n",
       "    <tr>\n",
       "      <th>17</th>\n",
       "      <td>Tusker</td>\n",
       "      <td>12</td>\n",
       "      <td>0.804511</td>\n",
       "      <td>NaN</td>\n",
       "      <td>NaN</td>\n",
       "      <td>NaN</td>\n",
       "    </tr>\n",
       "    <tr>\n",
       "      <th>18</th>\n",
       "      <td>Tusker</td>\n",
       "      <td>19</td>\n",
       "      <td>0.916869</td>\n",
       "      <td>NaN</td>\n",
       "      <td>NaN</td>\n",
       "      <td>NaN</td>\n",
       "    </tr>\n",
       "    <tr>\n",
       "      <th>19</th>\n",
       "      <td>Tusker</td>\n",
       "      <td>19</td>\n",
       "      <td>0.532434</td>\n",
       "      <td>NaN</td>\n",
       "      <td>NaN</td>\n",
       "      <td>NaN</td>\n",
       "    </tr>\n",
       "  </tbody>\n",
       "</table>\n",
       "</div>"
      ],
      "text/plain": [
       "            A   B         C         A     B         C\n",
       "0      Tusker  15  0.421096   Gilbeys  17.0  0.655963\n",
       "1      Tusker  18  0.444821  Konyangi  11.0  0.299617\n",
       "2   White Cup  10  0.824768   Gilbeys  13.0  0.144478\n",
       "3   White Cup  10  0.162654  Konyangi  11.0  0.403957\n",
       "4      Balozi  19  0.396694   Gilbeys  15.0  0.310270\n",
       "5      Tusker  12  0.874303    Fiesta  18.0  0.243398\n",
       "6   White Cup  10  0.963424    Fiesta  10.0  0.588104\n",
       "7      Balozi  14  0.795116    Fiesta  13.0  0.245343\n",
       "8      Balozi  14  0.118452   Gilbeys  16.0  0.747771\n",
       "9      Balozi  18  0.937555  Konyangi  19.0  0.720147\n",
       "10     Tusker  19  0.153458       NaN   NaN       NaN\n",
       "11     Balozi  17  0.472939       NaN   NaN       NaN\n",
       "12  White Cup  14  0.608998       NaN   NaN       NaN\n",
       "13  White Cup  18  0.264513       NaN   NaN       NaN\n",
       "14     Balozi  15  0.921975       NaN   NaN       NaN\n",
       "15     Balozi  10  0.932282       NaN   NaN       NaN\n",
       "16  White Cup  13  0.134822       NaN   NaN       NaN\n",
       "17     Tusker  12  0.804511       NaN   NaN       NaN\n",
       "18     Tusker  19  0.916869       NaN   NaN       NaN\n",
       "19     Tusker  19  0.532434       NaN   NaN       NaN"
      ]
     },
     "execution_count": 30,
     "metadata": {},
     "output_type": "execute_result"
    }
   ],
   "source": [
    "column_data"
   ]
  },
  {
   "cell_type": "code",
   "execution_count": 58,
   "id": "4e1bcb9a-b5d4-46ce-b8c5-b94eb3b6d3af",
   "metadata": {
    "tags": []
   },
   "outputs": [],
   "source": [
    "col_df = pd.DataFrame(index=range(30))"
   ]
  },
  {
   "cell_type": "code",
   "execution_count": 59,
   "id": "ff188c33-4eef-41b0-9131-e9b5816a6594",
   "metadata": {
    "tags": []
   },
   "outputs": [],
   "source": [
    "col_df[\"class\"] = np.random.choice([1, 2, 3], size=len(new_data))\n",
    "col_df[\"price\"] = np.random.randint(200, 400, size=len(new_data))"
   ]
  },
  {
   "cell_type": "code",
   "execution_count": 60,
   "id": "5149bdc4-425e-482b-8f05-a8920729d578",
   "metadata": {
    "tags": []
   },
   "outputs": [],
   "source": [
    "beer_data = pd.concat([new_data, col_df], axis=1, ignore_index=False)"
   ]
  },
  {
   "cell_type": "code",
   "execution_count": 61,
   "id": "41cdfd25-6b11-4434-b6ab-460f945145b4",
   "metadata": {
    "tags": []
   },
   "outputs": [
    {
     "data": {
      "text/plain": [
       "(30, 5)"
      ]
     },
     "execution_count": 61,
     "metadata": {},
     "output_type": "execute_result"
    }
   ],
   "source": [
    "beer_data.shape"
   ]
  },
  {
   "cell_type": "code",
   "execution_count": 62,
   "id": "7613274c-649e-42f8-9d76-5adedc458e3e",
   "metadata": {
    "tags": []
   },
   "outputs": [
    {
     "data": {
      "text/html": [
       "<div>\n",
       "<style scoped>\n",
       "    .dataframe tbody tr th:only-of-type {\n",
       "        vertical-align: middle;\n",
       "    }\n",
       "\n",
       "    .dataframe tbody tr th {\n",
       "        vertical-align: top;\n",
       "    }\n",
       "\n",
       "    .dataframe thead th {\n",
       "        text-align: right;\n",
       "    }\n",
       "</style>\n",
       "<table border=\"1\" class=\"dataframe\">\n",
       "  <thead>\n",
       "    <tr style=\"text-align: right;\">\n",
       "      <th></th>\n",
       "      <th>A</th>\n",
       "      <th>B</th>\n",
       "      <th>C</th>\n",
       "      <th>class</th>\n",
       "      <th>price</th>\n",
       "    </tr>\n",
       "  </thead>\n",
       "  <tbody>\n",
       "    <tr>\n",
       "      <th>0</th>\n",
       "      <td>Tusker</td>\n",
       "      <td>15</td>\n",
       "      <td>0.421096</td>\n",
       "      <td>3</td>\n",
       "      <td>272</td>\n",
       "    </tr>\n",
       "    <tr>\n",
       "      <th>1</th>\n",
       "      <td>Tusker</td>\n",
       "      <td>18</td>\n",
       "      <td>0.444821</td>\n",
       "      <td>3</td>\n",
       "      <td>231</td>\n",
       "    </tr>\n",
       "    <tr>\n",
       "      <th>2</th>\n",
       "      <td>White Cup</td>\n",
       "      <td>10</td>\n",
       "      <td>0.824768</td>\n",
       "      <td>1</td>\n",
       "      <td>307</td>\n",
       "    </tr>\n",
       "    <tr>\n",
       "      <th>3</th>\n",
       "      <td>White Cup</td>\n",
       "      <td>10</td>\n",
       "      <td>0.162654</td>\n",
       "      <td>2</td>\n",
       "      <td>375</td>\n",
       "    </tr>\n",
       "    <tr>\n",
       "      <th>4</th>\n",
       "      <td>Balozi</td>\n",
       "      <td>19</td>\n",
       "      <td>0.396694</td>\n",
       "      <td>2</td>\n",
       "      <td>394</td>\n",
       "    </tr>\n",
       "    <tr>\n",
       "      <th>5</th>\n",
       "      <td>Tusker</td>\n",
       "      <td>12</td>\n",
       "      <td>0.874303</td>\n",
       "      <td>1</td>\n",
       "      <td>236</td>\n",
       "    </tr>\n",
       "    <tr>\n",
       "      <th>6</th>\n",
       "      <td>White Cup</td>\n",
       "      <td>10</td>\n",
       "      <td>0.963424</td>\n",
       "      <td>2</td>\n",
       "      <td>233</td>\n",
       "    </tr>\n",
       "    <tr>\n",
       "      <th>7</th>\n",
       "      <td>Balozi</td>\n",
       "      <td>14</td>\n",
       "      <td>0.795116</td>\n",
       "      <td>2</td>\n",
       "      <td>250</td>\n",
       "    </tr>\n",
       "    <tr>\n",
       "      <th>8</th>\n",
       "      <td>Balozi</td>\n",
       "      <td>14</td>\n",
       "      <td>0.118452</td>\n",
       "      <td>2</td>\n",
       "      <td>201</td>\n",
       "    </tr>\n",
       "    <tr>\n",
       "      <th>9</th>\n",
       "      <td>Balozi</td>\n",
       "      <td>18</td>\n",
       "      <td>0.937555</td>\n",
       "      <td>3</td>\n",
       "      <td>228</td>\n",
       "    </tr>\n",
       "    <tr>\n",
       "      <th>10</th>\n",
       "      <td>Tusker</td>\n",
       "      <td>19</td>\n",
       "      <td>0.153458</td>\n",
       "      <td>2</td>\n",
       "      <td>312</td>\n",
       "    </tr>\n",
       "    <tr>\n",
       "      <th>11</th>\n",
       "      <td>Balozi</td>\n",
       "      <td>17</td>\n",
       "      <td>0.472939</td>\n",
       "      <td>1</td>\n",
       "      <td>229</td>\n",
       "    </tr>\n",
       "    <tr>\n",
       "      <th>12</th>\n",
       "      <td>White Cup</td>\n",
       "      <td>14</td>\n",
       "      <td>0.608998</td>\n",
       "      <td>3</td>\n",
       "      <td>223</td>\n",
       "    </tr>\n",
       "    <tr>\n",
       "      <th>13</th>\n",
       "      <td>White Cup</td>\n",
       "      <td>18</td>\n",
       "      <td>0.264513</td>\n",
       "      <td>2</td>\n",
       "      <td>283</td>\n",
       "    </tr>\n",
       "    <tr>\n",
       "      <th>14</th>\n",
       "      <td>Balozi</td>\n",
       "      <td>15</td>\n",
       "      <td>0.921975</td>\n",
       "      <td>3</td>\n",
       "      <td>332</td>\n",
       "    </tr>\n",
       "    <tr>\n",
       "      <th>15</th>\n",
       "      <td>Balozi</td>\n",
       "      <td>10</td>\n",
       "      <td>0.932282</td>\n",
       "      <td>3</td>\n",
       "      <td>227</td>\n",
       "    </tr>\n",
       "    <tr>\n",
       "      <th>16</th>\n",
       "      <td>White Cup</td>\n",
       "      <td>13</td>\n",
       "      <td>0.134822</td>\n",
       "      <td>2</td>\n",
       "      <td>349</td>\n",
       "    </tr>\n",
       "    <tr>\n",
       "      <th>17</th>\n",
       "      <td>Tusker</td>\n",
       "      <td>12</td>\n",
       "      <td>0.804511</td>\n",
       "      <td>2</td>\n",
       "      <td>395</td>\n",
       "    </tr>\n",
       "    <tr>\n",
       "      <th>18</th>\n",
       "      <td>Tusker</td>\n",
       "      <td>19</td>\n",
       "      <td>0.916869</td>\n",
       "      <td>3</td>\n",
       "      <td>370</td>\n",
       "    </tr>\n",
       "    <tr>\n",
       "      <th>19</th>\n",
       "      <td>Tusker</td>\n",
       "      <td>19</td>\n",
       "      <td>0.532434</td>\n",
       "      <td>1</td>\n",
       "      <td>277</td>\n",
       "    </tr>\n",
       "    <tr>\n",
       "      <th>20</th>\n",
       "      <td>Gilbeys</td>\n",
       "      <td>17</td>\n",
       "      <td>0.655963</td>\n",
       "      <td>2</td>\n",
       "      <td>284</td>\n",
       "    </tr>\n",
       "    <tr>\n",
       "      <th>21</th>\n",
       "      <td>Konyangi</td>\n",
       "      <td>11</td>\n",
       "      <td>0.299617</td>\n",
       "      <td>1</td>\n",
       "      <td>238</td>\n",
       "    </tr>\n",
       "    <tr>\n",
       "      <th>22</th>\n",
       "      <td>Gilbeys</td>\n",
       "      <td>13</td>\n",
       "      <td>0.144478</td>\n",
       "      <td>1</td>\n",
       "      <td>260</td>\n",
       "    </tr>\n",
       "    <tr>\n",
       "      <th>23</th>\n",
       "      <td>Konyangi</td>\n",
       "      <td>11</td>\n",
       "      <td>0.403957</td>\n",
       "      <td>2</td>\n",
       "      <td>294</td>\n",
       "    </tr>\n",
       "    <tr>\n",
       "      <th>24</th>\n",
       "      <td>Gilbeys</td>\n",
       "      <td>15</td>\n",
       "      <td>0.310270</td>\n",
       "      <td>2</td>\n",
       "      <td>259</td>\n",
       "    </tr>\n",
       "    <tr>\n",
       "      <th>25</th>\n",
       "      <td>Fiesta</td>\n",
       "      <td>18</td>\n",
       "      <td>0.243398</td>\n",
       "      <td>2</td>\n",
       "      <td>246</td>\n",
       "    </tr>\n",
       "    <tr>\n",
       "      <th>26</th>\n",
       "      <td>Fiesta</td>\n",
       "      <td>10</td>\n",
       "      <td>0.588104</td>\n",
       "      <td>3</td>\n",
       "      <td>216</td>\n",
       "    </tr>\n",
       "    <tr>\n",
       "      <th>27</th>\n",
       "      <td>Fiesta</td>\n",
       "      <td>13</td>\n",
       "      <td>0.245343</td>\n",
       "      <td>2</td>\n",
       "      <td>348</td>\n",
       "    </tr>\n",
       "    <tr>\n",
       "      <th>28</th>\n",
       "      <td>Gilbeys</td>\n",
       "      <td>16</td>\n",
       "      <td>0.747771</td>\n",
       "      <td>3</td>\n",
       "      <td>295</td>\n",
       "    </tr>\n",
       "    <tr>\n",
       "      <th>29</th>\n",
       "      <td>Konyangi</td>\n",
       "      <td>19</td>\n",
       "      <td>0.720147</td>\n",
       "      <td>2</td>\n",
       "      <td>266</td>\n",
       "    </tr>\n",
       "  </tbody>\n",
       "</table>\n",
       "</div>"
      ],
      "text/plain": [
       "            A   B         C  class  price\n",
       "0      Tusker  15  0.421096      3    272\n",
       "1      Tusker  18  0.444821      3    231\n",
       "2   White Cup  10  0.824768      1    307\n",
       "3   White Cup  10  0.162654      2    375\n",
       "4      Balozi  19  0.396694      2    394\n",
       "5      Tusker  12  0.874303      1    236\n",
       "6   White Cup  10  0.963424      2    233\n",
       "7      Balozi  14  0.795116      2    250\n",
       "8      Balozi  14  0.118452      2    201\n",
       "9      Balozi  18  0.937555      3    228\n",
       "10     Tusker  19  0.153458      2    312\n",
       "11     Balozi  17  0.472939      1    229\n",
       "12  White Cup  14  0.608998      3    223\n",
       "13  White Cup  18  0.264513      2    283\n",
       "14     Balozi  15  0.921975      3    332\n",
       "15     Balozi  10  0.932282      3    227\n",
       "16  White Cup  13  0.134822      2    349\n",
       "17     Tusker  12  0.804511      2    395\n",
       "18     Tusker  19  0.916869      3    370\n",
       "19     Tusker  19  0.532434      1    277\n",
       "20    Gilbeys  17  0.655963      2    284\n",
       "21   Konyangi  11  0.299617      1    238\n",
       "22    Gilbeys  13  0.144478      1    260\n",
       "23   Konyangi  11  0.403957      2    294\n",
       "24    Gilbeys  15  0.310270      2    259\n",
       "25     Fiesta  18  0.243398      2    246\n",
       "26     Fiesta  10  0.588104      3    216\n",
       "27     Fiesta  13  0.245343      2    348\n",
       "28    Gilbeys  16  0.747771      3    295\n",
       "29   Konyangi  19  0.720147      2    266"
      ]
     },
     "execution_count": 62,
     "metadata": {},
     "output_type": "execute_result"
    }
   ],
   "source": [
    "beer_data"
   ]
  },
  {
   "cell_type": "markdown",
   "id": "708d3ccf-47e0-4a22-92e1-1179d8fae1db",
   "metadata": {},
   "source": [
    "### Outliers"
   ]
  },
  {
   "cell_type": "code",
   "execution_count": 63,
   "id": "56c6747f-d116-4627-b387-af9049aa4540",
   "metadata": {
    "tags": []
   },
   "outputs": [],
   "source": [
    "import seaborn as sns"
   ]
  },
  {
   "cell_type": "code",
   "execution_count": 64,
   "id": "67763452-9157-410b-be08-f0e7fece2da8",
   "metadata": {
    "tags": []
   },
   "outputs": [],
   "source": [
    "values = [4, 6, 7, 8, 9, 101, 1, 106]"
   ]
  },
  {
   "cell_type": "code",
   "execution_count": 65,
   "id": "c1c33b88-0ec3-4ab3-9258-a285a81e7fec",
   "metadata": {
    "tags": []
   },
   "outputs": [
    {
     "data": {
      "text/plain": [
       "<Axes: >"
      ]
     },
     "execution_count": 65,
     "metadata": {},
     "output_type": "execute_result"
    },
    {
     "data": {
      "image/png": "[encoded data removed]",
      "text/plain": [
       "<Figure size 640x480 with 1 Axes>"
      ]
     },
     "metadata": {},
     "output_type": "display_data"
    }
   ],
   "source": [
    "sns.boxenplot(x=values)"
   ]
  },
  {
   "cell_type": "code",
   "execution_count": 70,
   "id": "3ad0520d-011f-44f3-b0f6-572e3285ad7d",
   "metadata": {
    "tags": []
   },
   "outputs": [],
   "source": [
    "analysis = pd.DataFrame({\"values\": values})"
   ]
  },
  {
   "cell_type": "code",
   "execution_count": 71,
   "id": "48c4bb94-523e-485a-9f2c-f73cbffe7eb4",
   "metadata": {
    "tags": []
   },
   "outputs": [
    {
     "data": {
      "text/html": [
       "<div>\n",
       "<style scoped>\n",
       "    .dataframe tbody tr th:only-of-type {\n",
       "        vertical-align: middle;\n",
       "    }\n",
       "\n",
       "    .dataframe tbody tr th {\n",
       "        vertical-align: top;\n",
       "    }\n",
       "\n",
       "    .dataframe thead th {\n",
       "        text-align: right;\n",
       "    }\n",
       "</style>\n",
       "<table border=\"1\" class=\"dataframe\">\n",
       "  <thead>\n",
       "    <tr style=\"text-align: right;\">\n",
       "      <th></th>\n",
       "      <th>values</th>\n",
       "    </tr>\n",
       "  </thead>\n",
       "  <tbody>\n",
       "    <tr>\n",
       "      <th>0</th>\n",
       "      <td>4</td>\n",
       "    </tr>\n",
       "    <tr>\n",
       "      <th>1</th>\n",
       "      <td>6</td>\n",
       "    </tr>\n",
       "    <tr>\n",
       "      <th>2</th>\n",
       "      <td>7</td>\n",
       "    </tr>\n",
       "    <tr>\n",
       "      <th>3</th>\n",
       "      <td>8</td>\n",
       "    </tr>\n",
       "    <tr>\n",
       "      <th>4</th>\n",
       "      <td>9</td>\n",
       "    </tr>\n",
       "    <tr>\n",
       "      <th>5</th>\n",
       "      <td>101</td>\n",
       "    </tr>\n",
       "    <tr>\n",
       "      <th>6</th>\n",
       "      <td>1</td>\n",
       "    </tr>\n",
       "    <tr>\n",
       "      <th>7</th>\n",
       "      <td>106</td>\n",
       "    </tr>\n",
       "  </tbody>\n",
       "</table>\n",
       "</div>"
      ],
      "text/plain": [
       "   values\n",
       "0       4\n",
       "1       6\n",
       "2       7\n",
       "3       8\n",
       "4       9\n",
       "5     101\n",
       "6       1\n",
       "7     106"
      ]
     },
     "execution_count": 71,
     "metadata": {},
     "output_type": "execute_result"
    }
   ],
   "source": [
    "analysis"
   ]
  },
  {
   "cell_type": "code",
   "execution_count": 74,
   "id": "6485d998-e1be-403b-94cd-84ee50f9faca",
   "metadata": {
    "tags": []
   },
   "outputs": [
    {
     "data": {
      "text/plain": [
       "5.5"
      ]
     },
     "execution_count": 74,
     "metadata": {},
     "output_type": "execute_result"
    }
   ],
   "source": [
    "Q1 = analysis[\"values\"].quantile(0.25)\n",
    "Q1"
   ]
  },
  {
   "cell_type": "code",
   "execution_count": 75,
   "id": "0b8afefa-3045-4d20-92f5-4147369f1445",
   "metadata": {
    "tags": []
   },
   "outputs": [
    {
     "data": {
      "text/plain": [
       "32.0"
      ]
     },
     "execution_count": 75,
     "metadata": {},
     "output_type": "execute_result"
    }
   ],
   "source": [
    "Q3 = analysis[\"values\"].quantile(0.75)\n",
    "Q3"
   ]
  },
  {
   "cell_type": "code",
   "execution_count": 77,
   "id": "79a629a0-90fb-4680-9cdb-389f5bd1a2d7",
   "metadata": {
    "tags": []
   },
   "outputs": [
    {
     "data": {
      "text/plain": [
       "30.25"
      ]
     },
     "execution_count": 77,
     "metadata": {},
     "output_type": "execute_result"
    }
   ],
   "source": [
    "mean = analysis[\"values\"].mean()\n",
    "mean"
   ]
  },
  {
   "cell_type": "code",
   "execution_count": 78,
   "id": "eab36ec2-af61-49da-bc8a-755c7554ab84",
   "metadata": {
    "tags": []
   },
   "outputs": [
    {
     "data": {
      "text/plain": [
       "26.5"
      ]
     },
     "execution_count": 78,
     "metadata": {},
     "output_type": "execute_result"
    }
   ],
   "source": [
    "IQR = Q3 - Q1\n",
    "IQR"
   ]
  },
  {
   "cell_type": "code",
   "execution_count": 79,
   "id": "bd004586-47ca-41ea-b639-897ba51c2a1e",
   "metadata": {
    "tags": []
   },
   "outputs": [
    {
     "data": {
      "text/plain": [
       "0    False\n",
       "1    False\n",
       "2    False\n",
       "3    False\n",
       "4    False\n",
       "5     True\n",
       "6    False\n",
       "7     True\n",
       "Name: values, dtype: bool"
      ]
     },
     "execution_count": 79,
     "metadata": {},
     "output_type": "execute_result"
    }
   ],
   "source": [
    "out = ((analysis[\"values\"] < (Q1 - 1.5 * IQR)) | (analysis[\"values\"] > (Q3 + 1.5 * IQR)))\n",
    "\n",
    "out"
   ]
  },
  {
   "cell_type": "code",
   "execution_count": 81,
   "id": "73538392-8861-4cfc-834e-eb16e9df27a7",
   "metadata": {
    "tags": []
   },
   "outputs": [
    {
     "data": {
      "text/plain": [
       "False    6\n",
       "True     2\n",
       "Name: values, dtype: int64"
      ]
     },
     "execution_count": 81,
     "metadata": {},
     "output_type": "execute_result"
    }
   ],
   "source": [
    "out.value_counts()"
   ]
  },
  {
   "cell_type": "code",
   "execution_count": 83,
   "id": "c5839f8a-17c6-4cf1-b6fa-08f70070f6de",
   "metadata": {
    "tags": []
   },
   "outputs": [
    {
     "data": {
      "text/plain": [
       "[5, 7]"
      ]
     },
     "execution_count": 83,
     "metadata": {},
     "output_type": "execute_result"
    }
   ],
   "source": [
    "out_list = list(out[out == True].index)\n",
    "out_list"
   ]
  },
  {
   "cell_type": "code",
   "execution_count": 85,
   "id": "bc5616da-a79b-4b68-a586-1ea506defbbd",
   "metadata": {
    "tags": []
   },
   "outputs": [
    {
     "data": {
      "text/plain": [
       "[101, 106]"
      ]
     },
     "execution_count": 85,
     "metadata": {},
     "output_type": "execute_result"
    }
   ],
   "source": [
    "outliers = []\n",
    "for index in out_list:\n",
    "    outliers.append(analysis[\"values\"][index])\n",
    "\n",
    "outliers\n"
   ]
  },
  {
   "cell_type": "code",
   "execution_count": 87,
   "id": "c3c6c36c-9435-408f-bf95-8772f82d55b8",
   "metadata": {
    "tags": []
   },
   "outputs": [
    {
     "data": {
      "text/html": [
       "<div>\n",
       "<style scoped>\n",
       "    .dataframe tbody tr th:only-of-type {\n",
       "        vertical-align: middle;\n",
       "    }\n",
       "\n",
       "    .dataframe tbody tr th {\n",
       "        vertical-align: top;\n",
       "    }\n",
       "\n",
       "    .dataframe thead th {\n",
       "        text-align: right;\n",
       "    }\n",
       "</style>\n",
       "<table border=\"1\" class=\"dataframe\">\n",
       "  <thead>\n",
       "    <tr style=\"text-align: right;\">\n",
       "      <th></th>\n",
       "      <th>values</th>\n",
       "    </tr>\n",
       "  </thead>\n",
       "  <tbody>\n",
       "    <tr>\n",
       "      <th>1</th>\n",
       "      <td>6</td>\n",
       "    </tr>\n",
       "    <tr>\n",
       "      <th>2</th>\n",
       "      <td>7</td>\n",
       "    </tr>\n",
       "    <tr>\n",
       "      <th>3</th>\n",
       "      <td>8</td>\n",
       "    </tr>\n",
       "    <tr>\n",
       "      <th>4</th>\n",
       "      <td>9</td>\n",
       "    </tr>\n",
       "    <tr>\n",
       "      <th>6</th>\n",
       "      <td>1</td>\n",
       "    </tr>\n",
       "  </tbody>\n",
       "</table>\n",
       "</div>"
      ],
      "text/plain": [
       "   values\n",
       "1       6\n",
       "2       7\n",
       "3       8\n",
       "4       9\n",
       "6       1"
      ]
     },
     "execution_count": 87,
     "metadata": {},
     "output_type": "execute_result"
    }
   ],
   "source": [
    "new_df = analysis[~((analysis[\"values\"] < (Q1 - 1.5 * IQR)) | (analysis[\"values\"] > (Q3 + 1.5 * IQR)))]\n",
    "\n",
    "new_df.tail()"
   ]
  },
  {
   "cell_type": "code",
   "execution_count": 89,
   "id": "9b8aec1b-25cd-4953-aec4-56be6c562c84",
   "metadata": {
    "tags": []
   },
   "outputs": [
    {
     "data": {
      "text/plain": [
       "[{'mean': 30.25,\n",
       "  'iqr': 26.5,\n",
       "  'cilo': -7.209588815633156,\n",
       "  'cihi': 22.209588815633154,\n",
       "  'whishi': 32.0,\n",
       "  'whislo': 1,\n",
       "  'fliers': array([101, 106], dtype=int64),\n",
       "  'q1': 5.5,\n",
       "  'med': 7.5,\n",
       "  'q3': 32.0}]"
      ]
     },
     "execution_count": 89,
     "metadata": {},
     "output_type": "execute_result"
    }
   ],
   "source": [
    "from matplotlib import cbook as cb\n",
    "stats = cb.boxplot_stats(analysis[\"values\"])\n",
    "stats"
   ]
  },
  {
   "cell_type": "code",
   "execution_count": 92,
   "id": "15bd66cc-bcc1-4693-8e12-3aadcc2ccfc0",
   "metadata": {
    "tags": []
   },
   "outputs": [
    {
     "data": {
      "text/plain": [
       "<Axes: xlabel='values'>"
      ]
     },
     "execution_count": 92,
     "metadata": {},
     "output_type": "execute_result"
    },
    {
     "data": {
      "image/png": "[encoded data removed]",
      "text/plain": [
       "<Figure size 640x480 with 1 Axes>"
      ]
     },
     "metadata": {},
     "output_type": "display_data"
    }
   ],
   "source": [
    "sns.boxenplot(x=\"values\", data=new_df)"
   ]
  },
  {
   "cell_type": "code",
   "execution_count": null,
   "id": "2224157c-467c-40e9-b5cc-c9ff3b015725",
   "metadata": {},
   "outputs": [],
   "source": []
  }
 ],
 "metadata": {
  "kernelspec": {
   "display_name": "Python 3 (ipykernel)",
   "language": "python",
   "name": "python3"
  },
  "language_info": {
   "codemirror_mode": {
    "name": "ipython",
    "version": 3
   },
   "file_extension": ".py",
   "mimetype": "text/x-python",
   "name": "python",
   "nbconvert_exporter": "python",
   "pygments_lexer": "ipython3",
   "version": "3.11.3"
  }
 },
 "nbformat": 4,
 "nbformat_minor": 5
}
